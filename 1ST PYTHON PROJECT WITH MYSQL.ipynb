{
 "cells": [
  {
   "cell_type": "code",
   "execution_count": 1,
   "metadata": {},
   "outputs": [
    {
     "name": "stdout",
     "output_type": "stream",
     "text": [
      "---------------------------------------- WELCOME TO THE WORLD OF GAMING ----------------------------------------\n",
      "\n",
      "       \t\t\t 1. TO ADD A GAME RECORD\n",
      "       \t\t\t 2. TO UPDATE GAME RECORD\n",
      "       \t\t\t 3. TO DELETE A GAME RECORD\n",
      "       \t\t\t 4. TO DISPLAY THE TABLE\n",
      "       \t\t\t 5. TO SEARCH IN TABLE \n",
      "       \t\t\t 6. EXIT\n",
      "\n",
      "\n"
     ]
    },
    {
     "name": "stdin",
     "output_type": "stream",
     "text": [
      "Enter Above Choices =  4\n"
     ]
    },
    {
     "name": "stdout",
     "output_type": "stream",
     "text": [
      "╒═══════════╤═════════════╤══════════╤════════════════╤═════════╕\n",
      "│ GAME-ID   │ GAME-NAME   │ GENRE    │ SIZE-OF-GAME   │   PRICE │\n",
      "╞═══════════╪═════════════╪══════════╪════════════════╪═════════╡\n",
      "│ G1        │ PUBG        │ FIGHTING │ 3 GB           │     100 │\n",
      "╘═══════════╧═════════════╧══════════╧════════════════╧═════════╛\n",
      "****************************************************************************************************\n",
      "\n",
      "\n",
      "\n",
      "       \t\t\t 1. TO ADD A GAME RECORD\n",
      "       \t\t\t 2. TO UPDATE GAME RECORD\n",
      "       \t\t\t 3. TO DELETE A GAME RECORD\n",
      "       \t\t\t 4. TO DISPLAY THE TABLE\n",
      "       \t\t\t 5. TO SEARCH IN TABLE \n",
      "       \t\t\t 6. EXIT\n",
      "\n",
      "\n"
     ]
    },
    {
     "name": "stdin",
     "output_type": "stream",
     "text": [
      "Enter Above Choices =  2\n"
     ]
    },
    {
     "name": "stdout",
     "output_type": "stream",
     "text": [
      "╒═══════════╤═════════════╤══════════╤════════════════╤═════════╕\n",
      "│ GAME-ID   │ GAME-NAME   │ GENRE    │ SIZE-OF-GAME   │   PRICE │\n",
      "╞═══════════╪═════════════╪══════════╪════════════════╪═════════╡\n",
      "│ G1        │ PUBG        │ FIGHTING │ 3 GB           │     100 │\n",
      "╘═══════════╧═════════════╧══════════╧════════════════╧═════════╛\n",
      "\n",
      "    \t\t\tPRESS 1 TO UPDATE GAME PRICE\n",
      "    \t\t\tPRESS 2 TO UPDATE GAME SIZE\n"
     ]
    },
    {
     "name": "stdin",
     "output_type": "stream",
     "text": [
      "Enter choice from above =  1\n",
      "enter GAME-ID to be update =  g1\n",
      "enter your new game price =  199\n"
     ]
    },
    {
     "name": "stdout",
     "output_type": "stream",
     "text": [
      "-------------------------RECORD UPDATED SUCCESSFULLY!!!----------------------------------\n",
      "****************************************************************************************************\n",
      "\n",
      "\n",
      "\n",
      "       \t\t\t 1. TO ADD A GAME RECORD\n",
      "       \t\t\t 2. TO UPDATE GAME RECORD\n",
      "       \t\t\t 3. TO DELETE A GAME RECORD\n",
      "       \t\t\t 4. TO DISPLAY THE TABLE\n",
      "       \t\t\t 5. TO SEARCH IN TABLE \n",
      "       \t\t\t 6. EXIT\n",
      "\n",
      "\n"
     ]
    },
    {
     "name": "stdin",
     "output_type": "stream",
     "text": [
      "Enter Above Choices =  4\n"
     ]
    },
    {
     "name": "stdout",
     "output_type": "stream",
     "text": [
      "╒═══════════╤═════════════╤══════════╤════════════════╤═════════╕\n",
      "│ GAME-ID   │ GAME-NAME   │ GENRE    │ SIZE-OF-GAME   │   PRICE │\n",
      "╞═══════════╪═════════════╪══════════╪════════════════╪═════════╡\n",
      "│ G1        │ PUBG        │ FIGHTING │ 3 GB           │     199 │\n",
      "╘═══════════╧═════════════╧══════════╧════════════════╧═════════╛\n",
      "****************************************************************************************************\n",
      "\n",
      "\n",
      "\n",
      "       \t\t\t 1. TO ADD A GAME RECORD\n",
      "       \t\t\t 2. TO UPDATE GAME RECORD\n",
      "       \t\t\t 3. TO DELETE A GAME RECORD\n",
      "       \t\t\t 4. TO DISPLAY THE TABLE\n",
      "       \t\t\t 5. TO SEARCH IN TABLE \n",
      "       \t\t\t 6. EXIT\n",
      "\n",
      "\n"
     ]
    },
    {
     "name": "stdin",
     "output_type": "stream",
     "text": [
      "Enter Above Choices =  6\n"
     ]
    },
    {
     "name": "stdout",
     "output_type": "stream",
     "text": [
      "----------------------------THANK YOU HAVE A NICE DAY!!!!-------------------------------------------\n"
     ]
    }
   ],
   "source": [
    "import mysql.connector as sql\n",
    "from tabulate import tabulate \n",
    "def ADD():\n",
    "    x = input('Are u new to this database [y/n] = ')\n",
    "    if x.lower() == 'y':\n",
    "        p = input('ENTER YOUR MYSQL PASSWORD = ')\n",
    "        u = input('ENTER YOUR MYSQL USERNAME = ')\n",
    "        mycon = sql.connect(host='localhost',\n",
    "                     password=p,\n",
    "                     user = u)\n",
    "        mycur = mycon.cursor()\n",
    "        qq = 'create database if not exists cs_project_new'\n",
    "        mycur.execute(qq)\n",
    "        aa = 'use cs_project_new'\n",
    "        mycur.execute(aa)\n",
    "        c = 'create table if not exists game(GAMEID varchar(10) primary key,\\\n",
    "        GAMENAME varchar(50) not null,GENRE varchar(10) not null,SIZEOFGAME varchar(10) not null,PRICE decimal default 0)'\n",
    "        mycur.execute(c)\n",
    "        print('---------------------successfully created the table and database!!------------------')\n",
    "        #--------------above code is only when database and table not exist then it will create automatically---------\n",
    "    elif x.lower() == 'n':\n",
    "        try:\n",
    "            try:\n",
    "                con = sql.connect(host='localhost',\n",
    "                                user = 'root',\n",
    "                                password='root',\n",
    "                                database='cs_project_new')\n",
    "                cur = con.cursor()\n",
    "                cur.execute('select GAMEID from game')\n",
    "                print('existing game IDs--->',cur.fetchall())\n",
    "                gi = input('ENTER GAME-ID [DISTINCT FROM ABOVE] = ')\n",
    "                gn = input('ENTER GAME-NAME = ')\n",
    "                g = input('ENTER GENRE OF GAME  = ')\n",
    "                s = input('ENTER SIZE OF GAME WITH MENTION [GB/MB] = ')\n",
    "                p = float(input('ENTER PRICE OF GAME [IF NOT ENTERED DEFAULT = 0] = '))\n",
    "            except ValueError:\n",
    "                gi = 'g0'\n",
    "            \n",
    "                p=0\n",
    "            if len(gn) == 0:\n",
    "                gn = 'null'\n",
    "            if len(g) == 0:\n",
    "                g = 'null'\n",
    "            if len(s) == 0:\n",
    "                s = 'null'\n",
    "            q = 'insert into game values(\"{}\",\"{}\",\"{}\",\"{}\",{})'.format(gi.upper(),gn.upper(),g.upper(),s.upper(),p)\n",
    "            cur.execute(q)\n",
    "            con.commit()\n",
    "            con.close()\n",
    "            print('------------------------GAME_RECORD ADDED SUCCESSFULLY!!!--------------------------------------')\n",
    "            print('\\n')\n",
    "        except:\n",
    "            print('---------------THERE IS SOMRTHING WENT WRONG!!!!!!-----------------------------------')\n",
    "\n",
    "def UPDATE():\n",
    "    con = sql.connect(host='localhost',\n",
    "                   user = 'root',\n",
    "                   password='root',\n",
    "                   database='cs_project_new')\n",
    "    cur = con.cursor()\n",
    "    cur.execute('select * from game')\n",
    "    data = cur.fetchall()\n",
    "    print(tabulate(data,headers=['GAME-ID','GAME-NAME','GENRE','SIZE-OF-GAME','PRICE'],tablefmt='fancy_grid'))\n",
    "    print('''\n",
    "    \\t\\t\\tPRESS 1 TO UPDATE GAME PRICE\n",
    "    \\t\\t\\tPRESS 2 TO UPDATE GAME SIZE''')\n",
    "    try:\n",
    "        c = int(input('Enter choice from above = '))\n",
    "        if c == 1:\n",
    "            gi = input('enter GAME-ID to be update = ')\n",
    "            gp = float(input('enter your new game price = '))\n",
    "            q = 'update game set price = {} where gameid = \"{}\"'.format(gp,gi)\n",
    "            cur.execute(q)\n",
    "            con.commit()\n",
    "            con.close()\n",
    "            print('-------------------------RECORD UPDATED SUCCESSFULLY!!!----------------------------------')\n",
    "\n",
    "        elif c == 2:\n",
    "            gi = input('enter GAME-ID to be update = ')\n",
    "            gs = input('enter new game size = ')\n",
    "            a = 'update game set sizeofgame = \"{}\" where gameid = \"{}\"'.format(gs.upper(),gi)\n",
    "            cur.execute(a)\n",
    "            con.commit()\n",
    "            con.close()\n",
    "            print('--------------------------RECORD UPDATED SUCCESSFULLY!!!-----------------------------------')\n",
    "        elif c>2:\n",
    "            print('------------------------NO OPTION EXISTS-----------------------------------------')\n",
    "    except ValueError:\n",
    "        print('WRONG INPUT')\n",
    "\n",
    "def DELETE():\n",
    "    con = sql.connect(host='localhost',\n",
    "                   user = 'root',\n",
    "                   password='root',\n",
    "                   database='cs_project_new')\n",
    "    cur = con.cursor()\n",
    "    cur.execute('select * from game')\n",
    "    data = cur.fetchall()\n",
    "    print(tabulate(data,headers=['GAME-ID','GAME-NAME','GENRE','SIZE-OF-GAME','PRICE'],tablefmt='fancy_grid'))\n",
    "    gi = input('Enter GameID to be deleted = ')\n",
    "    n = input('Are u sure to delete [y/n]: ')\n",
    "    if n.lower() == 'y':\n",
    "        q = 'delete from game where gameid = \"{}\"'.format(gi)\n",
    "        cur.execute(q)\n",
    "        con.commit()\n",
    "        con.close()\n",
    "        print('--------------------RECORD DELETED SUCCESSFULLY!!!!-------------------')\n",
    "    elif n.lower() == 'n':\n",
    "        pass\n",
    "\n",
    "def SHOW():\n",
    "    con = sql.connect(host='localhost',\n",
    "                   user = 'root',\n",
    "                   password='root',\n",
    "                   database='cs_project_new')\n",
    "    cur = con.cursor()\n",
    "    cur.execute('select * from game')\n",
    "    data = cur.fetchall()\n",
    "    print(tabulate(data,headers=['GAME-ID','GAME-NAME','GENRE','SIZE-OF-GAME','PRICE'],tablefmt='fancy_grid'))\n",
    "    con.close()\n",
    "\n",
    "def SEARCH():\n",
    "    con = sql.connect(host='localhost',\n",
    "                   user = 'root',\n",
    "                   password='root',\n",
    "                   database='cs_project_new')\n",
    "    cur = con.cursor()\n",
    "    print('''\n",
    "    \\t\\t\\tpress 1 to search on the basis of price less than or equals to\n",
    "    \\t\\t\\tpress 2 to search on the basis of genre''')\n",
    "    c = int(input('ENTER YOUR PREFRENCE = '))\n",
    "    try:\n",
    "        if c == 1:\n",
    "            n = int(input('enter price under which u search = '))\n",
    "            q = 'select * from game where price<={}'.format(n)\n",
    "            cur.execute(q)\n",
    "            data = cur.fetchall()\n",
    "            if len(data)!=0:\n",
    "                print(tabulate(data,headers=['GAME-ID','GAME-NAME','GENRE','SIZE-OF-GAME','PRICE'],tablefmt='fancy_grid'))\n",
    "                con.close()\n",
    "            else:\n",
    "                print('*************SORRY GAME PRICE FILTER NOT AVAILABLE**************')\n",
    "    except:\n",
    "        pass\n",
    "    try:\n",
    "        if c == 2:\n",
    "            n = input('enter genre to be search = ')\n",
    "            q = 'select * from game where genre = \"{}\"'.format(n)\n",
    "            cur.execute(q)\n",
    "            data = cur.fetchall()\n",
    "            if len(data)!=0:\n",
    "                print(tabulate(data,headers=['GAME-ID','GAME-NAME','GENRE','SIZE-OF-GAME','PRICE'],tablefmt='fancy_grid'))\n",
    "                con.close()\n",
    "            else:\n",
    "                print('************SORRY GENRE IS NOT YET AVAILABLE****************************')\n",
    "    except:\n",
    "        pass\n",
    "#**************************************************MAIN MENU*********************************************************\n",
    "print(40*'-','WELCOME TO THE WORLD OF GAMING',40*'-')\n",
    "try:\n",
    "    while True:\n",
    "        print('''\n",
    "       \\t\\t\\t 1. TO ADD A GAME RECORD\n",
    "       \\t\\t\\t 2. TO UPDATE GAME RECORD\n",
    "       \\t\\t\\t 3. TO DELETE A GAME RECORD\n",
    "       \\t\\t\\t 4. TO DISPLAY THE TABLE\n",
    "       \\t\\t\\t 5. TO SEARCH IN TABLE \n",
    "       \\t\\t\\t 6. EXIT''')\n",
    "        print('\\n')\n",
    "        c = int(input('Enter Above Choices = '))\n",
    "        if c == 1:\n",
    "            ADD()\n",
    "        elif c == 2:\n",
    "            UPDATE()\n",
    "        elif c == 3:\n",
    "            DELETE()\n",
    "        elif c == 4:\n",
    "            SHOW()\n",
    "        elif c == 5:\n",
    "            SEARCH()\n",
    "        elif c>6:\n",
    "            print('WRONG CHOICE')\n",
    "            break\n",
    "        elif c == 6:\n",
    "            break\n",
    "        print(100*'*')\n",
    "        print('\\n')\n",
    "    print('----------------------------THANK YOU HAVE A NICE DAY!!!!-------------------------------------------')\n",
    "except ValueError:\n",
    "    print('----------------------------SORRY WRONG VALUE INSERTED !!!!----------------------------------------------')"
   ]
  },
  {
   "cell_type": "code",
   "execution_count": 9,
   "metadata": {},
   "outputs": [
    {
     "name": "stdout",
     "output_type": "stream",
     "text": [
      "╒════════════╤═══════════════╤══════════╤═══════════════╤═══════════╤════════════╕\n",
      "│ Fields     │ Datatype      │ iuwoih   │ primary key   │   default │ weiuweiu   │\n",
      "╞════════════╪═══════════════╪══════════╪═══════════════╪═══════════╪════════════╡\n",
      "│ GAMEID     │ varchar(10)   │ NO       │ PRI           │           │            │\n",
      "├────────────┼───────────────┼──────────┼───────────────┼───────────┼────────────┤\n",
      "│ GAMENAME   │ varchar(50)   │ NO       │               │           │            │\n",
      "├────────────┼───────────────┼──────────┼───────────────┼───────────┼────────────┤\n",
      "│ GENRE      │ varchar(10)   │ NO       │               │           │            │\n",
      "├────────────┼───────────────┼──────────┼───────────────┼───────────┼────────────┤\n",
      "│ SIZEOFGAME │ varchar(10)   │ NO       │               │           │            │\n",
      "├────────────┼───────────────┼──────────┼───────────────┼───────────┼────────────┤\n",
      "│ PRICE      │ decimal(10,0) │ YES      │               │      b'0' │            │\n",
      "╘════════════╧═══════════════╧══════════╧═══════════════╧═══════════╧════════════╛\n"
     ]
    }
   ],
   "source": [
    "import mysql.connector as sql\n",
    "from tabulate import tabulate\n",
    "con = sql.connect(host='localhost',\n",
    "                user = 'root',\n",
    "                password='root',\n",
    "                database='cs_project_new')\n",
    "cur = con.cursor()\n",
    "cur.execute('desc game')\n",
    "data = cur.fetchall()\n",
    "print(tabulate(data,headers=['Fields','Datatype','iuwoih','primary key','default','weiuweiu'],tablefmt='fancy_grid'))"
   ]
  },
  {
   "cell_type": "code",
   "execution_count": 5,
   "metadata": {},
   "outputs": [
    {
     "name": "stdout",
     "output_type": "stream",
     "text": [
      "2024-01-06 17:31:19.821879\n"
     ]
    }
   ],
   "source": [
    "import datetime\n",
    "now = datetime.datetime.now()\n",
    "print(now)"
   ]
  },
  {
   "cell_type": "code",
   "execution_count": 3,
   "metadata": {},
   "outputs": [
    {
     "name": "stdout",
     "output_type": "stream",
     "text": [
      "enter value = 12\n",
      "enter value = 13\n",
      "x==12 and y == 13\n"
     ]
    }
   ],
   "source": [
    "x = int(input('enter value = '))\n",
    "y = int(input('enter value = '))\n",
    "print('x=={} and y == {}'.format(x,y))"
   ]
  },
  {
   "cell_type": "code",
   "execution_count": null,
   "metadata": {},
   "outputs": [],
   "source": []
  },
  {
   "cell_type": "code",
   "execution_count": null,
   "metadata": {},
   "outputs": [],
   "source": []
  }
 ],
 "metadata": {
  "kernelspec": {
   "display_name": "Python 3 (ipykernel)",
   "language": "python",
   "name": "python3"
  },
  "language_info": {
   "codemirror_mode": {
    "name": "ipython",
    "version": 3
   },
   "file_extension": ".py",
   "mimetype": "text/x-python",
   "name": "python",
   "nbconvert_exporter": "python",
   "pygments_lexer": "ipython3",
   "version": "3.13.5"
  }
 },
 "nbformat": 4,
 "nbformat_minor": 4
}
